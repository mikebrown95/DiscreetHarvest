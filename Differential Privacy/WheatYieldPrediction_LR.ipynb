{
 "cells": [
  {
   "cell_type": "markdown",
   "id": "located-purpose",
   "metadata": {},
   "source": [
    "# Linear Regression Model of Wheat Yield Data with and without Differential Privacy "
   ]
  },
  {
   "cell_type": "code",
   "execution_count": 1,
   "id": "fixed-matter",
   "metadata": {},
   "outputs": [],
   "source": [
    "from diffprivlib.models import LinearRegression\n",
    "import diffprivlib.models as dp\n",
    "import diffprivlib.tools as tl\n",
    "from diffprivlib.mechanisms import Laplace\n",
    "from sklearn.linear_model import LinearRegression as sk_LinearRegression\n",
    "import pandas as pd\n",
    "from sklearn.pipeline import Pipeline\n",
    "from sklearn.preprocessing import StandardScaler\n",
    "from sklearn.model_selection import train_test_split\n",
    "from sklearn.metrics import mean_squared_error as err\n",
    "from sklearn.ensemble import GradientBoostingRegressor\n",
    "import numpy as np\n",
    "import matplotlib.pyplot as plt\n",
    "%matplotlib inline\n",
    "\n",
    "#conda activate IntroML1\n"
   ]
  },
  {
   "cell_type": "code",
   "execution_count": 2,
   "id": "helpful-shopper",
   "metadata": {},
   "outputs": [],
   "source": [
    "data_1 = pd.read_csv(\"wheat-2013-supervised.csv\")\n",
    "data_2 = pd.read_csv(\"wheat-2014-supervised.csv\")\n",
    "data = pd.concat([data_1, data_2],axis=0)\n",
    "\n",
    "data['EstDistEquator'] = data['Latitude'] * 69\n",
    "\n",
    "data_new = data[['humidity','cloudCover', 'pressure','DayInSeason','dewPoint','windBearing','temperatureMax','EstDistEquator','NDVI','visibility', 'Yield' ]]\n",
    "\n",
    "data_new = data_new.dropna(axis=0)\n",
    "\n",
    "y = data_new[['Yield']]\n",
    "x = data_new.drop(['Yield'],axis=1)"
   ]
  },
  {
   "cell_type": "code",
   "execution_count": 3,
   "id": "instant-thanksgiving",
   "metadata": {},
   "outputs": [],
   "source": [
    "num_pipeline = Pipeline([\n",
    "    ('std_scaler', StandardScaler()) \n",
    "    \n",
    "])"
   ]
  },
  {
   "cell_type": "code",
   "execution_count": 4,
   "id": "coral-teddy",
   "metadata": {},
   "outputs": [],
   "source": [
    "x = num_pipeline.fit_transform(x)"
   ]
  },
  {
   "cell_type": "code",
   "execution_count": 5,
   "id": "parental-renaissance",
   "metadata": {},
   "outputs": [],
   "source": [
    "# Split Train and Test data \n",
    "x_train, x_test, y_train, y_test = train_test_split(x,y)\n",
    "\n"
   ]
  },
  {
   "cell_type": "markdown",
   "id": "bizarre-insider",
   "metadata": {},
   "source": [
    "# Regular Linear Regression"
   ]
  },
  {
   "cell_type": "code",
   "execution_count": 8,
   "id": "chronic-smart",
   "metadata": {},
   "outputs": [
    {
     "name": "stdout",
     "output_type": "stream",
     "text": [
      "Non-privacy baseline R2 score on Test Data: 0.22\n",
      "Non-privacy baseline R2 score on Train Data: 0.21\n"
     ]
    }
   ],
   "source": [
    "regr = sk_LinearRegression()\n",
    "regr.fit(x_train, y_train)\n",
    "baseline = regr.score(x_test, y_test)\n",
    "tr_baseline = regr.score(x_train,y_train)\n",
    "print(\"Non-privacy baseline R2 score on Test Data: %.2f\" % baseline)\n",
    "print(\"Non-privacy baseline R2 score on Train Data: %.2f\" % tr_baseline)"
   ]
  },
  {
   "cell_type": "code",
   "execution_count": 9,
   "id": "mineral-hindu",
   "metadata": {},
   "outputs": [
    {
     "name": "stdout",
     "output_type": "stream",
     "text": [
      "136.38457477032804\n"
     ]
    }
   ],
   "source": [
    "predictions = regr.predict(x_test)\n",
    "\n",
    "MSE = err(y_test,predictions)\n",
    "\n",
    "print(MSE)"
   ]
  },
  {
   "cell_type": "markdown",
   "id": "clear-mortgage",
   "metadata": {},
   "source": [
    "# Linear Regression with Privacy Model with Epsilon = 1"
   ]
  },
  {
   "cell_type": "code",
   "execution_count": 10,
   "id": "covered-success",
   "metadata": {},
   "outputs": [
    {
     "name": "stdout",
     "output_type": "stream",
     "text": [
      "R2 score for Test Data epsilon=1.00: 0.21\n",
      "R2 score for Train Data epsilon=1.00: 0.20\n"
     ]
    },
    {
     "name": "stderr",
     "output_type": "stream",
     "text": [
      "C:\\Users\\mikeb\\anaconda3\\envs\\IntroML1\\lib\\site-packages\\diffprivlib\\models\\linear_regression.py:258: PrivacyLeakWarning: Bounds parameters haven't been specified, so falling back to determining bounds from the data.\n",
      "This will result in additional privacy leakage. To ensure differential privacy with no additional privacy loss, specify `bounds_X` and `bounds_y`.\n",
      "  PrivacyLeakWarning)\n"
     ]
    }
   ],
   "source": [
    "regr = LinearRegression(epsilon=1)\n",
    "regr.fit(x_train, y_train)\n",
    "\n",
    "\n",
    "print(\"R2 score for Test Data epsilon=%.2f: %.2f\" % (regr.epsilon, regr.score(x_test, y_test)))\n",
    "print(\"R2 score for Train Data epsilon=%.2f: %.2f\" % (regr.epsilon, regr.score(x_train, y_train)))"
   ]
  },
  {
   "cell_type": "code",
   "execution_count": 11,
   "id": "classified-treasure",
   "metadata": {},
   "outputs": [
    {
     "name": "stdout",
     "output_type": "stream",
     "text": [
      "137.28549313414914\n"
     ]
    }
   ],
   "source": [
    "predictions = regr.predict(x_test)\n",
    "\n",
    "MSEPriv1 = err(y_test,predictions)\n",
    "\n",
    "print(MSEPriv1)"
   ]
  },
  {
   "cell_type": "markdown",
   "id": "adjusted-sight",
   "metadata": {},
   "source": [
    "# Linear Regression with Privacy Model with Epsilon = .9"
   ]
  },
  {
   "cell_type": "code",
   "execution_count": 12,
   "id": "sharing-devil",
   "metadata": {},
   "outputs": [
    {
     "name": "stdout",
     "output_type": "stream",
     "text": [
      "R2 score for Test Data epsilon=0.90: 0.20\n",
      "R2 score for Train Data epsilon=0.90: 0.19\n"
     ]
    },
    {
     "name": "stderr",
     "output_type": "stream",
     "text": [
      "C:\\Users\\mikeb\\anaconda3\\envs\\IntroML1\\lib\\site-packages\\diffprivlib\\models\\linear_regression.py:258: PrivacyLeakWarning: Bounds parameters haven't been specified, so falling back to determining bounds from the data.\n",
      "This will result in additional privacy leakage. To ensure differential privacy with no additional privacy loss, specify `bounds_X` and `bounds_y`.\n",
      "  PrivacyLeakWarning)\n"
     ]
    }
   ],
   "source": [
    "regr = LinearRegression(epsilon=.9)\n",
    "regr.fit(x_train, y_train)\n",
    "\n",
    "\n",
    "\n",
    "print(\"R2 score for Test Data epsilon=%.2f: %.2f\" % (regr.epsilon, regr.score(x_test, y_test)))\n",
    "print(\"R2 score for Train Data epsilon=%.2f: %.2f\" % (regr.epsilon, regr.score(x_train, y_train)))"
   ]
  },
  {
   "cell_type": "code",
   "execution_count": 13,
   "id": "retained-myanmar",
   "metadata": {},
   "outputs": [
    {
     "name": "stdout",
     "output_type": "stream",
     "text": [
      "139.69903650452972\n"
     ]
    }
   ],
   "source": [
    "predictions = regr.predict(x_test)\n",
    "\n",
    "MSEPriv9 = err(y_test,predictions)\n",
    "\n",
    "print(MSEPriv9)"
   ]
  }
 ],
 "metadata": {
  "kernelspec": {
   "display_name": "Python 3",
   "language": "python",
   "name": "python3"
  },
  "language_info": {
   "codemirror_mode": {
    "name": "ipython",
    "version": 3
   },
   "file_extension": ".py",
   "mimetype": "text/x-python",
   "name": "python",
   "nbconvert_exporter": "python",
   "pygments_lexer": "ipython3",
   "version": "3.7.0"
  }
 },
 "nbformat": 4,
 "nbformat_minor": 5
}
