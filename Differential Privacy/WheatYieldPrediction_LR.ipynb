{
 "cells": [
  {
   "cell_type": "code",
   "execution_count": 47,
   "id": "fixed-matter",
   "metadata": {},
   "outputs": [],
   "source": [
    "from diffprivlib.models import LinearRegression\n",
    "import diffprivlib.models as dp\n",
    "import diffprivlib.tools as tl\n",
    "from diffprivlib.mechanisms import Laplace\n",
    "from sklearn.linear_model import LinearRegression as sk_LinearRegression\n",
    "import pandas as pd\n",
    "from sklearn.pipeline import Pipeline\n",
    "from sklearn.preprocessing import StandardScaler\n",
    "from sklearn.model_selection import train_test_split\n",
    "from sklearn.metrics import mean_squared_error as err\n",
    "from sklearn.ensemble import GradientBoostingRegressor\n",
    "import numpy as np\n",
    "import matplotlib.pyplot as plt\n",
    "%matplotlib inline\n",
    "\n",
    "#conda activate IntroML1\n"
   ]
  },
  {
   "cell_type": "code",
   "execution_count": 2,
   "id": "helpful-shopper",
   "metadata": {},
   "outputs": [],
   "source": [
    "data_1 = pd.read_csv(\"wheat-2013-supervised.csv\")\n",
    "data_2 = pd.read_csv(\"wheat-2014-supervised.csv\")\n",
    "data = pd.concat([data_1, data_2],axis=0)\n",
    "\n",
    "data['EstDistEquator'] = data['Latitude'] * 69\n",
    "\n",
    "data_new = data[['humidity','cloudCover', 'pressure','DayInSeason','dewPoint','windBearing','temperatureMax','EstDistEquator','NDVI','visibility', 'Yield' ]]\n",
    "\n",
    "data_new = data_new.dropna(axis=0)\n",
    "\n",
    "y = data_new[['Yield']]\n",
    "x = data_new.drop(['Yield'],axis=1)"
   ]
  },
  {
   "cell_type": "code",
   "execution_count": 3,
   "id": "instant-thanksgiving",
   "metadata": {},
   "outputs": [],
   "source": [
    "num_pipeline = Pipeline([\n",
    "    ('std_scaler', StandardScaler()) \n",
    "    \n",
    "])"
   ]
  },
  {
   "cell_type": "code",
   "execution_count": 4,
   "id": "coral-teddy",
   "metadata": {},
   "outputs": [],
   "source": [
    "x = num_pipeline.fit_transform(x)"
   ]
  },
  {
   "cell_type": "code",
   "execution_count": 5,
   "id": "parental-renaissance",
   "metadata": {},
   "outputs": [],
   "source": [
    "# Split Train and Test data \n",
    "x_train, x_test, y_train, y_test = train_test_split(x,y)\n",
    "\n"
   ]
  },
  {
   "cell_type": "code",
   "execution_count": 36,
   "id": "chronic-smart",
   "metadata": {},
   "outputs": [
    {
     "name": "stdout",
     "output_type": "stream",
     "text": [
      "Non-privacy baseline R2 score on Test Data: 0.21\n",
      "Non-privacy baseline R2 score on Train Data: 0.21\n"
     ]
    }
   ],
   "source": [
    "#Regular Linear Regression\n",
    "\n",
    "regr = sk_LinearRegression()\n",
    "regr.fit(x_train, y_train)\n",
    "baseline = regr.score(x_test, y_test)\n",
    "tr_baseline = regr.score(x_train,y_train)\n",
    "print(\"Non-privacy baseline R2 score on Test Data: %.2f\" % baseline)\n",
    "print(\"Non-privacy baseline R2 score on Train Data: %.2f\" % tr_baseline)"
   ]
  },
  {
   "cell_type": "code",
   "execution_count": 37,
   "id": "mineral-hindu",
   "metadata": {},
   "outputs": [
    {
     "name": "stdout",
     "output_type": "stream",
     "text": [
      "135.92565835453715\n"
     ]
    }
   ],
   "source": [
    "predictions = regr.predict(x_test)\n",
    "\n",
    "MSE = err(y_test,predictions)\n",
    "\n",
    "print(MSE)"
   ]
  },
  {
   "cell_type": "code",
   "execution_count": 44,
   "id": "covered-success",
   "metadata": {},
   "outputs": [
    {
     "name": "stdout",
     "output_type": "stream",
     "text": [
      "R2 score for Test Data epsilon=1.00: 0.21\n",
      "R2 score for Train Data epsilon=1.00: 0.20\n"
     ]
    },
    {
     "name": "stderr",
     "output_type": "stream",
     "text": [
      "C:\\Users\\mikeb\\anaconda3\\envs\\IntroML1\\lib\\site-packages\\diffprivlib\\models\\linear_regression.py:258: PrivacyLeakWarning: Bounds parameters haven't been specified, so falling back to determining bounds from the data.\n",
      "This will result in additional privacy leakage. To ensure differential privacy with no additional privacy loss, specify `bounds_X` and `bounds_y`.\n",
      "  PrivacyLeakWarning)\n"
     ]
    }
   ],
   "source": [
    "#Privacy Model epsilon = 1\n",
    "\n",
    "regr = LinearRegression(epsilon=1)\n",
    "regr.fit(x_train, y_train)\n",
    "\n",
    "\n",
    "print(\"R2 score for Test Data epsilon=%.2f: %.2f\" % (regr.epsilon, regr.score(x_test, y_test)))\n",
    "print(\"R2 score for Train Data epsilon=%.2f: %.2f\" % (regr.epsilon, regr.score(x_train, y_train)))"
   ]
  },
  {
   "cell_type": "code",
   "execution_count": 45,
   "id": "classified-treasure",
   "metadata": {},
   "outputs": [
    {
     "name": "stdout",
     "output_type": "stream",
     "text": [
      "137.0101131758457\n"
     ]
    }
   ],
   "source": [
    "predictions = regr.predict(x_test)\n",
    "\n",
    "MSEPriv1 = err(y_test,predictions)\n",
    "\n",
    "print(MSEPriv1)"
   ]
  },
  {
   "cell_type": "code",
   "execution_count": 40,
   "id": "sharing-devil",
   "metadata": {},
   "outputs": [
    {
     "name": "stdout",
     "output_type": "stream",
     "text": [
      "R2 score for Test Data epsilon=0.90: 0.21\n",
      "R2 score for Train Data epsilon=0.90: 0.21\n"
     ]
    },
    {
     "name": "stderr",
     "output_type": "stream",
     "text": [
      "C:\\Users\\mikeb\\anaconda3\\envs\\IntroML1\\lib\\site-packages\\diffprivlib\\models\\linear_regression.py:258: PrivacyLeakWarning: Bounds parameters haven't been specified, so falling back to determining bounds from the data.\n",
      "This will result in additional privacy leakage. To ensure differential privacy with no additional privacy loss, specify `bounds_X` and `bounds_y`.\n",
      "  PrivacyLeakWarning)\n"
     ]
    }
   ],
   "source": [
    "#Privacy Model epsilon = .9\n",
    "\n",
    "regr = LinearRegression(epsilon=.9)\n",
    "regr.fit(x_train, y_train)\n",
    "\n",
    "\n",
    "\n",
    "print(\"R2 score for Test Data epsilon=%.2f: %.2f\" % (regr.epsilon, regr.score(x_test, y_test)))\n",
    "print(\"R2 score for Train Data epsilon=%.2f: %.2f\" % (regr.epsilon, regr.score(x_train, y_train)))"
   ]
  },
  {
   "cell_type": "code",
   "execution_count": 41,
   "id": "retained-myanmar",
   "metadata": {},
   "outputs": [
    {
     "name": "stdout",
     "output_type": "stream",
     "text": [
      "136.3511418015996\n"
     ]
    }
   ],
   "source": [
    "predictions = regr.predict(x_test)\n",
    "\n",
    "MSEPriv9 = err(y_test,predictions)\n",
    "\n",
    "print(MSEPriv9)"
   ]
  },
  {
   "cell_type": "code",
   "execution_count": null,
   "id": "suffering-portrait",
   "metadata": {},
   "outputs": [],
   "source": []
  },
  {
   "cell_type": "code",
   "execution_count": null,
   "id": "juvenile-modem",
   "metadata": {},
   "outputs": [],
   "source": []
  },
  {
   "cell_type": "code",
   "execution_count": null,
   "id": "premier-cooling",
   "metadata": {},
   "outputs": [],
   "source": []
  },
  {
   "cell_type": "code",
   "execution_count": null,
   "id": "enormous-joint",
   "metadata": {},
   "outputs": [],
   "source": []
  },
  {
   "cell_type": "code",
   "execution_count": null,
   "id": "working-protocol",
   "metadata": {},
   "outputs": [],
   "source": []
  },
  {
   "cell_type": "code",
   "execution_count": null,
   "id": "concrete-modem",
   "metadata": {},
   "outputs": [],
   "source": []
  },
  {
   "cell_type": "code",
   "execution_count": null,
   "id": "national-enlargement",
   "metadata": {},
   "outputs": [],
   "source": []
  },
  {
   "cell_type": "code",
   "execution_count": null,
   "id": "peripheral-eight",
   "metadata": {},
   "outputs": [],
   "source": []
  },
  {
   "cell_type": "code",
   "execution_count": null,
   "id": "circular-career",
   "metadata": {},
   "outputs": [],
   "source": []
  },
  {
   "cell_type": "code",
   "execution_count": null,
   "id": "prostate-array",
   "metadata": {},
   "outputs": [],
   "source": [
    "\n"
   ]
  },
  {
   "cell_type": "code",
   "execution_count": null,
   "id": "serious-injection",
   "metadata": {},
   "outputs": [],
   "source": []
  }
 ],
 "metadata": {
  "kernelspec": {
   "display_name": "Python 3",
   "language": "python",
   "name": "python3"
  },
  "language_info": {
   "codemirror_mode": {
    "name": "ipython",
    "version": 3
   },
   "file_extension": ".py",
   "mimetype": "text/x-python",
   "name": "python",
   "nbconvert_exporter": "python",
   "pygments_lexer": "ipython3",
   "version": "3.7.0"
  }
 },
 "nbformat": 4,
 "nbformat_minor": 5
}
