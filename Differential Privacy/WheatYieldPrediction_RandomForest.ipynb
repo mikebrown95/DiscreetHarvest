{
 "cells": [
  {
   "cell_type": "markdown",
   "id": "public-despite",
   "metadata": {},
   "source": [
    "# Random Forest Classification of Wheat Yield Data with and without Differential Privacy "
   ]
  },
  {
   "cell_type": "code",
   "execution_count": 13,
   "id": "fixed-matter",
   "metadata": {},
   "outputs": [],
   "source": [
    "from diffprivlib.models import LinearRegression\n",
    "import diffprivlib.models as dp\n",
    "import diffprivlib.tools as tl\n",
    "from diffprivlib.mechanisms import Laplace\n",
    "from sklearn.linear_model import LinearRegression as sk_LinearRegression\n",
    "import pandas as pd\n",
    "from sklearn.pipeline import Pipeline\n",
    "from sklearn.preprocessing import StandardScaler\n",
    "from sklearn.model_selection import train_test_split\n",
    "from sklearn.metrics import mean_squared_error as err\n",
    "from sklearn.ensemble import GradientBoostingRegressor\n",
    "import numpy as np\n",
    "import matplotlib.pyplot as plt\n",
    "from sklearn.ensemble import RandomForestClassifier as sk_RandomForestClassifier\n",
    "from sklearn.datasets import make_classification\n",
    "from diffprivlib.models import RandomForestClassifier\n",
    "%matplotlib inline\n",
    "from sklearn import metrics\n",
    "\n",
    "#conda activate IntroML1\n",
    "\n",
    "\n",
    "# Random Forest Classification of Wheat Yield data with and without Differential Privacy (DP)\n",
    "#Source: https://arxiv.org/abs/1606.03572\n",
    "\n"
   ]
  },
  {
   "cell_type": "code",
   "execution_count": 23,
   "id": "helpful-shopper",
   "metadata": {},
   "outputs": [],
   "source": [
    "data_1 = pd.read_csv(\"wheat-2013-supervised.csv\")\n",
    "data_2 = pd.read_csv(\"wheat-2014-supervised.csv\")\n",
    "data = pd.concat([data_1, data_2],axis=0)\n",
    "\n",
    "data['EstDistEquator'] = data['Latitude'] * 69\n",
    "\n",
    "# Conditions for Yield Categories (Mean=32, Min=9, Max=78, STD=13)\n",
    "\n",
    "conditions = [\n",
    "    (data['Yield'] <= 25),\n",
    "    (data['Yield'] > 25) & (data['Yield'] <= 39),\n",
    "    (data['Yield'] > 39) \n",
    "    ]\n",
    "\n",
    "\n",
    "# 0 = low, 1 = Average, 2 = High\n",
    "\n",
    "values = [0,1,2]\n",
    "\n",
    "data['Yield_Cat'] = np.select(conditions,values)\n",
    "\n",
    "\n",
    "data_new = data[['humidity','cloudCover', 'pressure','DayInSeason','dewPoint','windBearing','temperatureMax','NDVI','visibility','EstDistEquator', 'Yield_Cat' ]]\n",
    "\n",
    "data_new = data_new.dropna(axis=0)\n",
    "\n",
    "y = data_new[['Yield_Cat']]\n",
    "x = data_new.drop(['Yield_Cat'],axis=1)"
   ]
  },
  {
   "cell_type": "code",
   "execution_count": 24,
   "id": "instant-thanksgiving",
   "metadata": {},
   "outputs": [],
   "source": [
    "num_pipeline = Pipeline([\n",
    "    ('std_scaler', StandardScaler()) \n",
    "    \n",
    "])"
   ]
  },
  {
   "cell_type": "code",
   "execution_count": 25,
   "id": "coral-teddy",
   "metadata": {},
   "outputs": [],
   "source": [
    "x = num_pipeline.fit_transform(x)"
   ]
  },
  {
   "cell_type": "code",
   "execution_count": 26,
   "id": "parental-renaissance",
   "metadata": {},
   "outputs": [],
   "source": [
    "# Split Train and Test data \n",
    "x_train, x_test, y_train, y_test = train_test_split(x,y)\n",
    "\n"
   ]
  },
  {
   "cell_type": "code",
   "execution_count": 46,
   "id": "chronic-smart",
   "metadata": {},
   "outputs": [
    {
     "data": {
      "text/plain": [
       "RandomForestClassifier(n_estimators=250, n_jobs=2)"
      ]
     },
     "execution_count": 46,
     "metadata": {},
     "output_type": "execute_result"
    }
   ],
   "source": [
    "#Regular Random Forest \n",
    "\n",
    "clf=sk_RandomForestClassifier(n_estimators=100,n_jobs=2)\n",
    "clf.fit(x_train, np.ravel(y_train))\n"
   ]
  },
  {
   "cell_type": "code",
   "execution_count": 47,
   "id": "mineral-hindu",
   "metadata": {},
   "outputs": [],
   "source": [
    "predictions = clf.predict(x_test)\n"
   ]
  },
  {
   "cell_type": "code",
   "execution_count": 48,
   "id": "wooden-seven",
   "metadata": {},
   "outputs": [
    {
     "name": "stdout",
     "output_type": "stream",
     "text": [
      "Accuracy without DP: 0.8554481008713846\n"
     ]
    }
   ],
   "source": [
    "print(\"Accuracy without DP:\",metrics.accuracy_score(y_test, predictions))"
   ]
  },
  {
   "cell_type": "code",
   "execution_count": 49,
   "id": "covered-success",
   "metadata": {},
   "outputs": [
    {
     "name": "stderr",
     "output_type": "stream",
     "text": [
      "C:\\Users\\mikeb\\anaconda3\\envs\\IntroML1\\lib\\site-packages\\diffprivlib\\models\\forest.py:194: PrivacyLeakWarning: `feature_domains` parameter hasn't been specified, so falling back to determining domains from the data.\n",
      "This may result in additional privacy leakage. To ensure differential privacy with no additional privacy loss, specify `feature_domains` according to the documentation\n",
      "  PrivacyLeakWarning)\n"
     ]
    },
    {
     "data": {
      "text/plain": [
       "RandomForestClassifier(accountant=BudgetAccountant(spent_budget=[(1.0, 0), (1, 0), (0.9, 0), (1, 0), (0.9, 0), ...]),\n",
       "                       epsilon=1, n_estimators=250)"
      ]
     },
     "execution_count": 49,
     "metadata": {},
     "output_type": "execute_result"
    }
   ],
   "source": [
    "#Privacy Model epsilon = 1\n",
    "\n",
    "clf_priv = RandomForestClassifier(n_estimators=250,epsilon=1)\n",
    "clf_priv.fit(x_train, np.ravel(y_train))\n",
    "\n",
    "\n"
   ]
  },
  {
   "cell_type": "code",
   "execution_count": 50,
   "id": "universal-costume",
   "metadata": {},
   "outputs": [],
   "source": [
    "predictions_DP = clf_priv.predict(x_test)"
   ]
  },
  {
   "cell_type": "code",
   "execution_count": 51,
   "id": "classified-treasure",
   "metadata": {},
   "outputs": [
    {
     "name": "stdout",
     "output_type": "stream",
     "text": [
      "Accuracy with Privacy Espilon 1: 0.3869481509509554\n"
     ]
    }
   ],
   "source": [
    "print(\"Accuracy with Privacy Espilon 1:\",metrics.accuracy_score(y_test, predictions_DP))"
   ]
  },
  {
   "cell_type": "code",
   "execution_count": 33,
   "id": "sharing-devil",
   "metadata": {},
   "outputs": [
    {
     "name": "stderr",
     "output_type": "stream",
     "text": [
      "C:\\Users\\mikeb\\anaconda3\\envs\\IntroML1\\lib\\site-packages\\diffprivlib\\models\\forest.py:194: PrivacyLeakWarning: `feature_domains` parameter hasn't been specified, so falling back to determining domains from the data.\n",
      "This may result in additional privacy leakage. To ensure differential privacy with no additional privacy loss, specify `feature_domains` according to the documentation\n",
      "  PrivacyLeakWarning)\n"
     ]
    },
    {
     "data": {
      "text/plain": [
       "RandomForestClassifier(accountant=BudgetAccountant(spent_budget=[(1.0, 0), (1, 0), (0.9, 0), (1, 0), (0.9, 0)]),\n",
       "                       epsilon=0.9, n_estimators=100)"
      ]
     },
     "execution_count": 33,
     "metadata": {},
     "output_type": "execute_result"
    }
   ],
   "source": [
    "#Privacy Model epsilon = .9\n",
    "\n",
    "clf_priv9 = RandomForestClassifier(n_estimators=100,epsilon=.9)\n",
    "clf_priv9.fit(x_train,np.ravel(y_train))\n"
   ]
  },
  {
   "cell_type": "code",
   "execution_count": 34,
   "id": "retained-myanmar",
   "metadata": {},
   "outputs": [
    {
     "name": "stdout",
     "output_type": "stream",
     "text": [
      "Accuracy with Privacy Espilon .9: 0.3934918815451217\n"
     ]
    }
   ],
   "source": [
    "predictions_DP9 = clf_priv9.predict(x_test)\n",
    "\n",
    "print(\"Accuracy with Privacy Espilon .9:\",metrics.accuracy_score(y_test, predictions_DP9))"
   ]
  },
  {
   "cell_type": "code",
   "execution_count": 35,
   "id": "italian-square",
   "metadata": {},
   "outputs": [
    {
     "name": "stderr",
     "output_type": "stream",
     "text": [
      "C:\\Users\\mikeb\\anaconda3\\envs\\IntroML1\\lib\\site-packages\\diffprivlib\\models\\forest.py:194: PrivacyLeakWarning: `feature_domains` parameter hasn't been specified, so falling back to determining domains from the data.\n",
      "This may result in additional privacy leakage. To ensure differential privacy with no additional privacy loss, specify `feature_domains` according to the documentation\n",
      "  PrivacyLeakWarning)\n"
     ]
    },
    {
     "data": {
      "text/plain": [
       "RandomForestClassifier(accountant=BudgetAccountant(spent_budget=[(1.0, 0), (1, 0), (0.9, 0), (1, 0), (0.9, 0), ...]),\n",
       "                       epsilon=0.1, n_estimators=100)"
      ]
     },
     "execution_count": 35,
     "metadata": {},
     "output_type": "execute_result"
    }
   ],
   "source": [
    "clf_priv9 = RandomForestClassifier(n_estimators=100,epsilon=.1)\n",
    "clf_priv9.fit(x_train,np.ravel(y_train))"
   ]
  },
  {
   "cell_type": "code",
   "execution_count": 36,
   "id": "willing-compensation",
   "metadata": {},
   "outputs": [
    {
     "name": "stderr",
     "output_type": "stream",
     "text": [
      "C:\\Users\\mikeb\\anaconda3\\envs\\IntroML1\\lib\\site-packages\\diffprivlib\\models\\forest.py:194: PrivacyLeakWarning: `feature_domains` parameter hasn't been specified, so falling back to determining domains from the data.\n",
      "This may result in additional privacy leakage. To ensure differential privacy with no additional privacy loss, specify `feature_domains` according to the documentation\n",
      "  PrivacyLeakWarning)\n"
     ]
    },
    {
     "data": {
      "text/plain": [
       "RandomForestClassifier(accountant=BudgetAccountant(spent_budget=[(1.0, 0), (1, 0), (0.9, 0), (1, 0), (0.9, 0), ...]),\n",
       "                       epsilon=0.1, n_estimators=100)"
      ]
     },
     "execution_count": 36,
     "metadata": {},
     "output_type": "execute_result"
    }
   ],
   "source": [
    "clf_priv9.fit(x_train,np.ravel(y_train))"
   ]
  },
  {
   "cell_type": "code",
   "execution_count": 37,
   "id": "coordinate-dependence",
   "metadata": {},
   "outputs": [
    {
     "name": "stdout",
     "output_type": "stream",
     "text": [
      "Accuracy with Privacy Espilon .9: 0.3865475143839656\n"
     ]
    }
   ],
   "source": [
    "predictions_DP9 = clf_priv9.predict(x_test)\n",
    "\n",
    "print(\"Accuracy with Privacy Espilon .9:\",metrics.accuracy_score(y_test, predictions_DP9))"
   ]
  }
 ],
 "metadata": {
  "kernelspec": {
   "display_name": "Python 3",
   "language": "python",
   "name": "python3"
  },
  "language_info": {
   "codemirror_mode": {
    "name": "ipython",
    "version": 3
   },
   "file_extension": ".py",
   "mimetype": "text/x-python",
   "name": "python",
   "nbconvert_exporter": "python",
   "pygments_lexer": "ipython3",
   "version": "3.7.0"
  }
 },
 "nbformat": 4,
 "nbformat_minor": 5
}
