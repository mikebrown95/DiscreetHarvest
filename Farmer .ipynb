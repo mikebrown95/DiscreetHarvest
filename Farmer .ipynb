{
 "cells": [
  {
   "cell_type": "code",
   "execution_count": 1,
   "id": "f30505a8",
   "metadata": {
    "scrolled": true
   },
   "outputs": [
    {
     "name": "stdout",
     "output_type": "stream",
     "text": [
      "🎤  🎸  ♪♪♪ Starting Duet ♫♫♫  🎻  🎹\n",
      "\n",
      "♫♫♫ >\u001b[93m DISCLAIMER\u001b[0m: \u001b[1mDuet is an experimental feature currently in beta.\n",
      "♫♫♫ > Use at your own risk.\n",
      "\u001b[0m\n",
      "\u001b[1m\n",
      "    > ❤️ \u001b[91mLove\u001b[0m \u001b[92mDuet\u001b[0m? \u001b[93mPlease\u001b[0m \u001b[94mconsider\u001b[0m \u001b[95msupporting\u001b[0m \u001b[91mour\u001b[0m \u001b[93mcommunity!\u001b[0m\n",
      "    > https://github.com/sponsors/OpenMined\u001b[1m\n",
      "\n"
     ]
    },
    {
     "name": "stderr",
     "output_type": "stream",
     "text": [
      "[2021-10-10T08:14:33.559580-0400][CRITICAL][logger]][12238] Skipping torchvision.torchvision.datasets.Omniglot not supported in 0.8.0a0\n",
      "[2021-10-10T08:14:33.560600-0400][CRITICAL][logger]][12238] Skipping torchvision.torchvision.datasets.Omniglot.__len__ not supported in 0.8.0a0\n",
      "[2021-10-10T08:14:33.561539-0400][CRITICAL][logger]][12238] Skipping torchvision.torchvision.datasets.Places365 not supported in 0.8.0a0\n",
      "[2021-10-10T08:14:33.563158-0400][CRITICAL][logger]][12238] Skipping torchvision.torchvision.datasets.Places365.__len__ not supported in 0.8.0a0\n",
      "[2021-10-10T08:14:33.567339-0400][CRITICAL][logger]][12238] Skipping torchvision.torchvision.transforms.GaussianBlur not supported in 0.8.0a0\n",
      "[2021-10-10T08:14:33.569736-0400][CRITICAL][logger]][12238] Skipping torchvision.torchvision.transforms.ConvertImageDtype not supported in 0.8.0a0\n"
     ]
    },
    {
     "name": "stdout",
     "output_type": "stream",
     "text": [
      "♫♫♫ > Punching through firewall to OpenGrid Network Node at:\n",
      "♫♫♫ > http://ec2-18-218-7-180.us-east-2.compute.amazonaws.com:5000\n",
      "♫♫♫ >\n",
      "♫♫♫ > ...waiting for response from OpenGrid Network... \n"
     ]
    },
    {
     "name": "stderr",
     "output_type": "stream",
     "text": [
      "[2021-10-10T08:14:33.575212-0400][CRITICAL][logger]][12238] Skipping torchvision.torchvision.transforms.functional.adjust_sharpness not supported in 0.8.0a0\n",
      "[2021-10-10T08:14:33.584301-0400][CRITICAL][logger]][12238] Skipping torchvision.torchvision.transforms.functional.autocontrast not supported in 0.8.0a0\n",
      "[2021-10-10T08:14:33.592755-0400][CRITICAL][logger]][12238] Skipping torchvision.torchvision.transforms.functional.equalize not supported in 0.8.0a0\n",
      "[2021-10-10T08:14:33.600666-0400][CRITICAL][logger]][12238] Skipping torchvision.torchvision.transforms.functional.gaussian_blur not supported in 0.8.0a0\n",
      "[2021-10-10T08:14:33.606677-0400][CRITICAL][logger]][12238] Skipping torchvision.torchvision.transforms.functional.invert not supported in 0.8.0a0\n",
      "[2021-10-10T08:14:33.614291-0400][CRITICAL][logger]][12238] Skipping torchvision.torchvision.transforms.functional.posterize not supported in 0.8.0a0\n",
      "[2021-10-10T08:14:33.616723-0400][CRITICAL][logger]][12238] Skipping torchvision.torchvision.transforms.functional.rgb_to_grayscale not supported in 0.8.0a0\n",
      "[2021-10-10T08:14:33.619130-0400][CRITICAL][logger]][12238] Skipping torchvision.torchvision.transforms.functional.solarize not supported in 0.8.0a0\n"
     ]
    },
    {
     "name": "stdout",
     "output_type": "stream",
     "text": [
      "♫♫♫ > \u001b[92mDONE!\u001b[0m\n",
      "\n",
      "♫♫♫ > \u001b[95mSTEP 1:\u001b[0m Send the following code to your Duet Partner!\n",
      "\n",
      "import syft as sy\n",
      "duet = sy.join_duet(loopback=True)\n",
      "\n",
      "♫♫♫ > Connecting...\n"
     ]
    },
    {
     "name": "stderr",
     "output_type": "stream",
     "text": [
      "/Users/robertbrown/opt/anaconda3/envs/farm/lib/python3.9/site-packages/aiortc/rtcdtlstransport.py:211: CryptographyDeprecationWarning: This version of cryptography contains a temporary pyOpenSSL fallback path. Upgrade pyOpenSSL now.\n",
      "  _openssl_assert(lib.SSL_CTX_use_certificate(ctx, self._cert._x509) == 1)  # type: ignore\n",
      "/Users/robertbrown/opt/anaconda3/envs/farm/lib/python3.9/site-packages/aiortc/rtcdtlstransport.py:186: CryptographyDeprecationWarning: This version of cryptography contains a temporary pyOpenSSL fallback path. Upgrade pyOpenSSL now.\n",
      "  value=certificate_digest(self._cert._x509),  # type: ignore\n",
      "[2021-10-10T08:14:44.911414-0400][CRITICAL][logger]][12238] Skipping torchvision.torchvision.datasets.Omniglot not supported in 0.8.0a0\n",
      "[2021-10-10T08:14:44.912460-0400][CRITICAL][logger]][12238] Skipping torchvision.torchvision.datasets.Omniglot.__len__ not supported in 0.8.0a0\n",
      "[2021-10-10T08:14:44.913304-0400][CRITICAL][logger]][12238] Skipping torchvision.torchvision.datasets.Places365 not supported in 0.8.0a0\n",
      "[2021-10-10T08:14:44.914708-0400][CRITICAL][logger]][12238] Skipping torchvision.torchvision.datasets.Places365.__len__ not supported in 0.8.0a0\n",
      "[2021-10-10T08:14:44.917581-0400][CRITICAL][logger]][12238] Skipping torchvision.torchvision.transforms.GaussianBlur not supported in 0.8.0a0\n",
      "[2021-10-10T08:14:44.918926-0400][CRITICAL][logger]][12238] Skipping torchvision.torchvision.transforms.ConvertImageDtype not supported in 0.8.0a0\n",
      "[2021-10-10T08:14:44.920354-0400][CRITICAL][logger]][12238] Skipping torchvision.torchvision.transforms.functional.adjust_sharpness not supported in 0.8.0a0\n",
      "[2021-10-10T08:14:44.921644-0400][CRITICAL][logger]][12238] Skipping torchvision.torchvision.transforms.functional.autocontrast not supported in 0.8.0a0\n",
      "[2021-10-10T08:14:44.923671-0400][CRITICAL][logger]][12238] Skipping torchvision.torchvision.transforms.functional.equalize not supported in 0.8.0a0\n",
      "[2021-10-10T08:14:44.925345-0400][CRITICAL][logger]][12238] Skipping torchvision.torchvision.transforms.functional.gaussian_blur not supported in 0.8.0a0\n",
      "[2021-10-10T08:14:44.926468-0400][CRITICAL][logger]][12238] Skipping torchvision.torchvision.transforms.functional.invert not supported in 0.8.0a0\n",
      "[2021-10-10T08:14:44.928173-0400][CRITICAL][logger]][12238] Skipping torchvision.torchvision.transforms.functional.posterize not supported in 0.8.0a0\n",
      "[2021-10-10T08:14:44.929696-0400][CRITICAL][logger]][12238] Skipping torchvision.torchvision.transforms.functional.rgb_to_grayscale not supported in 0.8.0a0\n",
      "[2021-10-10T08:14:44.931020-0400][CRITICAL][logger]][12238] Skipping torchvision.torchvision.transforms.functional.solarize not supported in 0.8.0a0\n",
      "[2021-10-10T08:14:45.172380-0400][CRITICAL][logger]][12238] Skipping torchvision.torchvision.datasets.Omniglot not supported in 0.8.0a0\n",
      "[2021-10-10T08:14:45.173369-0400][CRITICAL][logger]][12238] Skipping torchvision.torchvision.datasets.Omniglot.__len__ not supported in 0.8.0a0\n",
      "[2021-10-10T08:14:45.174278-0400][CRITICAL][logger]][12238] Skipping torchvision.torchvision.datasets.Places365 not supported in 0.8.0a0\n",
      "[2021-10-10T08:14:45.175169-0400][CRITICAL][logger]][12238] Skipping torchvision.torchvision.datasets.Places365.__len__ not supported in 0.8.0a0\n",
      "[2021-10-10T08:14:45.178114-0400][CRITICAL][logger]][12238] Skipping torchvision.torchvision.transforms.GaussianBlur not supported in 0.8.0a0\n",
      "[2021-10-10T08:14:45.180017-0400][CRITICAL][logger]][12238] Skipping torchvision.torchvision.transforms.ConvertImageDtype not supported in 0.8.0a0\n",
      "[2021-10-10T08:14:45.181474-0400][CRITICAL][logger]][12238] Skipping torchvision.torchvision.transforms.functional.adjust_sharpness not supported in 0.8.0a0\n",
      "[2021-10-10T08:14:45.182758-0400][CRITICAL][logger]][12238] Skipping torchvision.torchvision.transforms.functional.autocontrast not supported in 0.8.0a0\n",
      "[2021-10-10T08:14:45.184541-0400][CRITICAL][logger]][12238] Skipping torchvision.torchvision.transforms.functional.equalize not supported in 0.8.0a0\n",
      "[2021-10-10T08:14:45.186316-0400][CRITICAL][logger]][12238] Skipping torchvision.torchvision.transforms.functional.gaussian_blur not supported in 0.8.0a0\n",
      "[2021-10-10T08:14:45.187642-0400][CRITICAL][logger]][12238] Skipping torchvision.torchvision.transforms.functional.invert not supported in 0.8.0a0\n",
      "[2021-10-10T08:14:45.189123-0400][CRITICAL][logger]][12238] Skipping torchvision.torchvision.transforms.functional.posterize not supported in 0.8.0a0\n",
      "[2021-10-10T08:14:45.190303-0400][CRITICAL][logger]][12238] Skipping torchvision.torchvision.transforms.functional.rgb_to_grayscale not supported in 0.8.0a0\n",
      "[2021-10-10T08:14:45.191423-0400][CRITICAL][logger]][12238] Skipping torchvision.torchvision.transforms.functional.solarize not supported in 0.8.0a0\n"
     ]
    },
    {
     "name": "stdout",
     "output_type": "stream",
     "text": [
      "\n",
      "♫♫♫ > \u001b[92mCONNECTED!\u001b[0m\n",
      "\n",
      "   CountyName       State   Latitude   Longitude             Date  \\quest Handlers: 1                                \n",
      "0       Adams  Washington  46.811686 -118.695237  11/30/2013 0:00   \n",
      "1       Adams  Washington  46.929839 -118.352109  11/30/2013 0:00   \n",
      "2       Adams  Washington  47.006888 -118.510160  11/30/2013 0:00   \n",
      "3       Adams  Washington  47.162342 -118.699677  11/30/2013 0:00   \n",
      "4       Adams  Washington  47.157512 -118.434056  11/30/2013 0:00   \n",
      "5       Adams  Washington  47.150327 -118.958859  11/30/2013 0:00   \n",
      "6     Alfalfa    Oklahoma  36.995835  -98.330851  11/30/2013 0:00   \n",
      "7     Alfalfa    Oklahoma  36.988813  -98.404629  11/30/2013 0:00   \n",
      "8     Alfalfa    Oklahoma  36.702452  -98.319892  11/30/2013 0:00   \n",
      "9     Alfalfa    Oklahoma  36.628781  -98.539816  11/30/2013 0:00   \n",
      "10    Alfalfa    Oklahoma  36.650698  -98.444745  11/30/2013 0:00   \n",
      "11    Alfalfa    Oklahoma  36.508221  -98.454318  11/30/2013 0:00   \n",
      "12      Allen      Kansas  37.823955  -95.443337  11/30/2013 0:00   \n",
      "13      Allen      Kansas  37.829639  -95.517856  11/30/2013 0:00   \n",
      "14      Allen      Kansas  37.775503  -95.517707  11/30/2013 0:00   \n",
      "15      Allen      Kansas  37.886401  -95.403039  11/30/2013 0:00   \n",
      "16      Allen      Kansas  37.935840  -95.296974  11/30/2013 0:00   \n",
      "17      Allen      Kansas  37.944904  -95.158686  11/30/2013 0:00   \n",
      "18   Anderson      Kansas  38.346888  -95.119087  11/30/2013 0:00   \n",
      "19   Anderson      Kansas  38.075769  -95.156842  11/30/2013 0:00   \n",
      "20   Anderson      Kansas  38.097944  -95.448330  11/30/2013 0:00   \n",
      "21   Anderson      Kansas  38.209910  -95.224348  11/30/2013 0:00   \n",
      "22   Anderson      Kansas  38.237277  -95.338690  11/30/2013 0:00   \n",
      "23   Anderson      Kansas  38.154253  -95.090466  11/30/2013 0:00   \n",
      "24     Archer       Texas  33.791931  -98.453101  11/30/2013 0:00   \n",
      "25     Archer       Texas  33.749781  -98.841016  11/30/2013 0:00   \n",
      "26     Archer       Texas  33.487080  -98.950207  11/30/2013 0:00   \n",
      "27     Archer       Texas  33.409997  -98.915295  11/30/2013 0:00   \n",
      "28     Archer       Texas  33.599571  -98.454330  11/30/2013 0:00   \n",
      "29     Archer       Texas  33.403530  -98.597244  11/30/2013 0:00   \n",
      "\n",
      "    apparentTemperatureMax  apparentTemperatureMin  cloudCover  dewPoint  \\\n",
      "0                    35.70                   20.85        0.00     29.53   \n",
      "1                    35.10                   26.92        0.00     29.77   \n",
      "2                    33.38                   26.95        0.00     29.36   \n",
      "3                    28.05                   25.93        0.91     29.47   \n",
      "4                    28.83                   25.98        0.91     29.86   \n",
      "5                    30.32                   22.40        0.00     28.91   \n",
      "6                    61.87                   24.98        0.00     33.35   \n",
      "7                    61.94                   24.74        0.00     33.20   \n",
      "8                    61.19                   26.95        0.00     35.18   \n",
      "9                    61.35                   26.87        0.00     35.15   \n",
      "10                   61.17                   27.18        0.00     35.47   \n",
      "11                   60.71                   28.19        0.00     36.32   \n",
      "12                   57.60                   31.20        0.00     34.54   \n",
      "13                   57.36                   30.05        0.00     34.05   \n",
      "14                   57.51                   30.79        0.00     34.50   \n",
      "15                   57.40                   30.30        0.00     34.00   \n",
      "16                   57.25                   30.99        0.00     33.59   \n",
      "17                   57.23                   31.33        0.00     33.55   \n",
      "18                   54.83                   25.60        0.00     30.61   \n",
      "19                   56.56                   29.70        0.00     33.18   \n",
      "20                   56.86                   29.41        0.00     32.80   \n",
      "21                   55.43                   26.39        0.00     31.30   \n",
      "22                   55.15                   25.42        0.00     31.27   \n",
      "23                   54.87                   28.86        0.00     32.39   \n",
      "24                   66.45                   34.70        0.00     43.11   \n",
      "25                   66.40                   34.74        0.00     42.24   \n",
      "26                   67.20                   38.17        0.00     44.86   \n",
      "27                   67.32                   38.45        0.00     45.00   \n",
      "28                   66.62                   36.95        0.00     44.10   \n",
      "29                   66.99                   36.25        0.00     44.41   \n",
      "\n",
      "    humidity  ...  precipTypeIsOther  pressure  temperatureMax  \\\n",
      "0       0.91  ...                  0   1027.13           35.70   \n",
      "1       0.93  ...                  0   1026.87           35.10   \n",
      "2       0.94  ...                  0   1026.88           33.38   \n",
      "3       0.94  ...                  0   1026.37           33.19   \n",
      "4       0.94  ...                  0   1026.19           33.85   \n",
      "5       0.91  ...                  0   1026.87           33.19   \n",
      "6       0.72  ...                  0   1020.65           61.87   \n",
      "7       0.72  ...                  0   1020.64           61.94   \n",
      "8       0.75  ...                  0   1020.74           61.19   \n",
      "9       0.73  ...                  0   1020.73           61.35   \n",
      "10      0.74  ...                  0   1020.74           61.17   \n",
      "11      0.76  ...                  0   1020.77           60.71   \n",
      "12      0.69  ...                  0   1021.54           57.60   \n",
      "13      0.69  ...                  0   1021.37           57.36   \n",
      "14      0.69  ...                  0   1021.51           57.51   \n",
      "15      0.68  ...                  0   1021.36           57.40   \n",
      "16      0.67  ...                  0   1021.36           57.25   \n",
      "17      0.67  ...                  0   1021.36           57.23   \n",
      "18      0.66  ...                  0   1021.06           54.83   \n",
      "19      0.67  ...                  0   1021.42           56.56   \n",
      "20      0.67  ...                  0   1021.25           56.86   \n",
      "21      0.67  ...                  0   1021.09           55.43   \n",
      "22      0.67  ...                  0   1020.99           55.15   \n",
      "23      0.67  ...                  0   1021.18           54.87   \n",
      "24      0.75  ...                  0   1021.58           66.45   \n",
      "25      0.73  ...                  0   1021.41           66.40   \n",
      "26      0.75  ...                  0   1022.03           67.20   \n",
      "27      0.75  ...                  0   1022.03           67.32   \n",
      "28      0.76  ...                  0   1022.03           66.62   \n",
      "29      0.76  ...                  0   1022.03           66.99   \n",
      "\n",
      "    temperatureMin  visibility  windBearing  windSpeed        NDVI  \\\n",
      "0            27.48        2.46          214       1.18  134.110657   \n",
      "1            26.92        2.83          166       1.01  131.506592   \n",
      "2            26.95        2.95          158       1.03  131.472946   \n",
      "3            27.17        2.89          153       1.84  131.288300   \n",
      "4            27.07        2.97          156       1.85  131.288300   \n",
      "5            28.79        2.85          151       1.37  131.087753   \n",
      "6            29.61        9.70          213       3.22  154.290955   \n",
      "7            29.57        9.72          214       3.13  154.048492   \n",
      "8            31.49        9.58          199       4.43  150.004394   \n",
      "9            32.62        9.76          208       4.42  149.816055   \n",
      "10           32.67        9.72          205       4.61  149.649872   \n",
      "11           33.33        9.68          202       5.12  149.522354   \n",
      "12           36.15        9.91          189       9.35  146.368835   \n",
      "13           36.14        9.93          191       8.94  145.966644   \n",
      "14           36.27        9.92          189       9.47  145.963303   \n",
      "15           36.05        9.93          192       8.75  144.851639   \n",
      "16           35.97        9.96          193       8.60  144.537231   \n",
      "17           35.90        9.96          194       8.49  144.537231   \n",
      "18           31.49        9.94          190       6.60  143.440994   \n",
      "19           35.28        9.95          193       8.53  143.429535   \n",
      "20           35.64        9.96          193       8.02  143.028503   \n",
      "21           32.20        9.94          191       6.94  142.802261   \n",
      "22           31.80        9.98          192       7.41  142.733658   \n",
      "23           35.73        9.97          194       8.22  140.886826   \n",
      "24           39.12        9.75          187       8.45  152.138367   \n",
      "25           39.81        9.84          191       8.97  152.061600   \n",
      "26           41.61        9.79          188       8.15  150.964935   \n",
      "27           41.75        9.80          187       8.02  150.931732   \n",
      "28           40.69        9.74          186       8.30  150.412308   \n",
      "29           40.24        9.51          185       7.62  149.192184   \n",
      "\n",
      "    DayInSeason  Yield  \n",
      "0             0   35.7  \n",
      "1             0   35.7  \n",
      "2             0   35.7  \n",
      "3             0   35.7  \n",
      "4             0   35.7  \n",
      "5             0   35.7  \n",
      "6             0   14.4  \n",
      "7             0   14.4  \n",
      "8             0   14.4  \n",
      "9             0   14.4  \n",
      "10            0   14.4  \n",
      "11            0   14.4  \n",
      "12            0   46.5  \n",
      "13            0   46.5  \n",
      "14            0   46.5  \n",
      "15            0   46.5  \n",
      "16            0   46.5  \n",
      "17            0   46.5  \n",
      "18            0   45.6  \n",
      "19            0   45.6  \n",
      "20            0   45.6  \n",
      "21            0   45.6  \n",
      "22            0   45.6  \n",
      "23            0   45.6  \n",
      "24            0   13.1  \n",
      "25            0   13.1  \n",
      "26            0   13.1  \n",
      "27            0   13.1  \n",
      "28            0   13.1  \n",
      "29            0   13.1  \n",
      "\n"
     ]
    },
    {
     "name": "stdout",
     "output_type": "stream",
     "text": [
      "[30 rows x 26 columns]\n",
      "♫♫♫ > DUET LIVE STATUS  *  Objects: 8  Requests: 0   Messages: 3016  Request Handlers: 1                                                          \r"
     ]
    }
   ],
   "source": [
    "import syft as sy\n",
    "duet = sy.launch_duet(loopback=True)\n",
    "\n",
    "# Notes: Review layers of model for possible improvement, add tags to iformation . Add notes"
   ]
  },
  {
   "cell_type": "code",
   "execution_count": 3,
   "id": "ea3194ac",
   "metadata": {},
   "outputs": [],
   "source": [
    "duet.requests.add_handler(action=\"accept\")\n"
   ]
  },
  {
   "cell_type": "code",
   "execution_count": 4,
   "id": "8340f414",
   "metadata": {},
   "outputs": [
    {
     "data": {
      "text/plain": [
       "[]"
      ]
     },
     "execution_count": 4,
     "metadata": {},
     "output_type": "execute_result"
    }
   ],
   "source": [
    "duet.store"
   ]
  },
  {
   "cell_type": "code",
   "execution_count": 5,
   "id": "2d891c05",
   "metadata": {},
   "outputs": [
    {
     "name": "stdout",
     "output_type": "stream",
     "text": [
      "♫♫♫ > DUET LIVE STATUS  -  Objects: 0  Requests: 0   Messages: 3  Request Handlers: 1                                \r"
     ]
    }
   ],
   "source": [
    "import os \n",
    "import pandas as pd\n",
    "import numpy as np\n",
    "from sklearn import datasets\n",
    "import torch as th\n",
    "from sklearn.pipeline import Pipeline\n",
    "from sklearn.preprocessing import StandardScaler\n",
    "from sklearn.model_selection import train_test_split\n",
    "\n",
    "os.chdir('data')"
   ]
  },
  {
   "cell_type": "code",
   "execution_count": 6,
   "id": "8c21094e",
   "metadata": {},
   "outputs": [],
   "source": [
    "df = pd.read_csv(\"wheat-2013-supervised.csv\")\n",
    "df1 = pd.read_csv(\"wheat-2014-supervised.csv\")\n",
    "df = pd.concat([df, df1],axis=0)"
   ]
  },
  {
   "cell_type": "code",
   "execution_count": null,
   "id": "ad2f7973",
   "metadata": {},
   "outputs": [],
   "source": []
  },
  {
   "cell_type": "code",
   "execution_count": 14,
   "id": "927c8824",
   "metadata": {},
   "outputs": [],
   "source": [
    "conditions = [\n",
    "    (df['Yield'] <= 31),\n",
    "    #(df['Yield'] > 31) & (df['Yield'] <= 38),\n",
    "    (df['Yield'] > 31)\n",
    "    ]\n",
    "\n",
    "# create a list of the values we want to assign for each condition\n",
    "values = [0,1]\n",
    "\n",
    "# create a new column and use np.select to assign values to it using our lists as arguments\n",
    "df['Yield_Cat'] = np.select(conditions, values)\n"
   ]
  },
  {
   "cell_type": "code",
   "execution_count": 15,
   "id": "21526977",
   "metadata": {},
   "outputs": [],
   "source": [
    "df['EstDistEquator'] = df['Latitude'] * 69\n",
    "\n",
    "data_new = df[['EstDistEquator','precipTypeIsOther','temperatureMax','NDVI','visibility','dewPoint','pressure','humidity','cloudCover','windSpeed', 'Yield_Cat' ]]\n",
    "\n",
    "data_new = data_new.dropna(axis=0)\n",
    "\n",
    "y = data_new[['Yield_Cat']]\n",
    "x = data_new.drop(['Yield_Cat'],axis=1)"
   ]
  },
  {
   "cell_type": "code",
   "execution_count": null,
   "id": "e0a670f8",
   "metadata": {},
   "outputs": [],
   "source": []
  },
  {
   "cell_type": "code",
   "execution_count": 17,
   "id": "96455767",
   "metadata": {},
   "outputs": [],
   "source": [
    "num_pipeline = Pipeline([\n",
    "    ('std_scaler', StandardScaler())\n",
    "    \n",
    "])"
   ]
  },
  {
   "cell_type": "code",
   "execution_count": 18,
   "id": "7af0d6e1",
   "metadata": {},
   "outputs": [],
   "source": [
    "x = num_pipeline.fit_transform(x)\n",
    "\n",
    "x = th.FloatTensor(x)\n",
    "\n",
    "y = y.to_numpy()\n",
    "\n",
    "y = th.FloatTensor(y).reshape(-1)"
   ]
  },
  {
   "cell_type": "code",
   "execution_count": 20,
   "id": "ee8d5662",
   "metadata": {},
   "outputs": [
    {
     "name": "stdout",
     "output_type": "stream",
     "text": [
      "torch.Size([359427])\n"
     ]
    }
   ],
   "source": [
    "print(y.shape)"
   ]
  },
  {
   "cell_type": "code",
   "execution_count": 21,
   "id": "3e3781e4",
   "metadata": {},
   "outputs": [],
   "source": [
    "x = x.tag(\"Farm sensor data\")\n",
    "y = y.tag(\"Wheat yield labels\")\n",
    "\n",
    "x = x.describe(\n",
    "    \"This is a dataset for wheat yield of 359,427 examples using 10 features w/ IoT sensor data.\"\n",
    ")\n",
    "y = y.describe(\"Labels for wheat yield. 0 = low yield. 1 = high yield\")"
   ]
  },
  {
   "cell_type": "code",
   "execution_count": 22,
   "id": "6d3912db",
   "metadata": {},
   "outputs": [],
   "source": [
    "data_pointer = x.send(duet, pointable=True)\n",
    "target_pointer = y.send(duet, pointable=True)"
   ]
  },
  {
   "cell_type": "code",
   "execution_count": 23,
   "id": "609e3134",
   "metadata": {},
   "outputs": [
    {
     "data": {
      "text/plain": [
       "[<syft.proxy.torch.TensorPointer object at 0x7f9c866bc370>, <syft.proxy.torch.TensorPointer object at 0x7f9c866bc040>]"
      ]
     },
     "execution_count": 23,
     "metadata": {},
     "output_type": "execute_result"
    }
   ],
   "source": [
    "duet.store"
   ]
  },
  {
   "cell_type": "code",
   "execution_count": 24,
   "id": "14ff7263",
   "metadata": {},
   "outputs": [],
   "source": [
    "# For testing purposes, accept all requests from Data Scientist \n",
    "duet.requests.add_handler(action=\"accept\")"
   ]
  },
  {
   "cell_type": "code",
   "execution_count": null,
   "id": "cd5343e6",
   "metadata": {},
   "outputs": [],
   "source": []
  }
 ],
 "metadata": {
  "kernelspec": {
   "display_name": "Python 3 (ipykernel)",
   "language": "python",
   "name": "python3"
  },
  "language_info": {
   "codemirror_mode": {
    "name": "ipython",
    "version": 3
   },
   "file_extension": ".py",
   "mimetype": "text/x-python",
   "name": "python",
   "nbconvert_exporter": "python",
   "pygments_lexer": "ipython3",
   "version": "3.9.7"
  }
 },
 "nbformat": 4,
 "nbformat_minor": 5
}
