{
 "cells": [
  {
   "cell_type": "code",
   "execution_count": 2,
   "id": "d74fe88e",
   "metadata": {},
   "outputs": [
    {
     "name": "stdout",
     "output_type": "stream",
     "text": [
      "🎤  🎸  ♪♪♪ Joining Duet ♫♫♫  🎻  🎹\n",
      "\n",
      "♫♫♫ >\u001b[93m DISCLAIMER\u001b[0m: \u001b[1mDuet is an experimental feature currently in beta.\n",
      "♫♫♫ > Use at your own risk.\n",
      "\u001b[0m\n",
      "\u001b[1m\n",
      "    > ❤️ \u001b[91mLove\u001b[0m \u001b[92mDuet\u001b[0m? \u001b[93mPlease\u001b[0m \u001b[94mconsider\u001b[0m \u001b[95msupporting\u001b[0m \u001b[91mour\u001b[0m \u001b[93mcommunity!\u001b[0m\n",
      "    > https://github.com/sponsors/OpenMined\u001b[1m\n",
      "\n",
      "♫♫♫ > Punching through firewall to OpenGrid Network Node at:\n",
      "♫♫♫ > http://ec2-18-218-7-180.us-east-2.compute.amazonaws.com:5000\n",
      "♫♫♫ >\n",
      "♫♫♫ > ...waiting for response from OpenGrid Network... \n"
     ]
    },
    {
     "name": "stderr",
     "output_type": "stream",
     "text": [
      "[2021-10-10T13:23:47.501333-0400][CRITICAL][logger]][12638] Skipping torchvision.torchvision.datasets.Omniglot not supported in 0.8.0a0\n",
      "[2021-10-10T13:23:47.502263-0400][CRITICAL][logger]][12638] Skipping torchvision.torchvision.datasets.Omniglot.__len__ not supported in 0.8.0a0\n",
      "[2021-10-10T13:23:47.503064-0400][CRITICAL][logger]][12638] Skipping torchvision.torchvision.datasets.Places365 not supported in 0.8.0a0\n",
      "[2021-10-10T13:23:47.504331-0400][CRITICAL][logger]][12638] Skipping torchvision.torchvision.datasets.Places365.__len__ not supported in 0.8.0a0\n",
      "[2021-10-10T13:23:47.508666-0400][CRITICAL][logger]][12638] Skipping torchvision.torchvision.transforms.GaussianBlur not supported in 0.8.0a0\n",
      "[2021-10-10T13:23:47.511083-0400][CRITICAL][logger]][12638] Skipping torchvision.torchvision.transforms.ConvertImageDtype not supported in 0.8.0a0\n",
      "[2021-10-10T13:23:47.513317-0400][CRITICAL][logger]][12638] Skipping torchvision.torchvision.transforms.functional.adjust_sharpness not supported in 0.8.0a0\n",
      "[2021-10-10T13:23:47.515251-0400][CRITICAL][logger]][12638] Skipping torchvision.torchvision.transforms.functional.autocontrast not supported in 0.8.0a0\n",
      "[2021-10-10T13:23:47.516912-0400][CRITICAL][logger]][12638] Skipping torchvision.torchvision.transforms.functional.equalize not supported in 0.8.0a0\n",
      "[2021-10-10T13:23:47.518339-0400][CRITICAL][logger]][12638] Skipping torchvision.torchvision.transforms.functional.gaussian_blur not supported in 0.8.0a0\n",
      "[2021-10-10T13:23:47.531383-0400][CRITICAL][logger]][12638] Skipping torchvision.torchvision.transforms.functional.invert not supported in 0.8.0a0\n",
      "[2021-10-10T13:23:47.535345-0400][CRITICAL][logger]][12638] Skipping torchvision.torchvision.transforms.functional.posterize not supported in 0.8.0a0\n",
      "[2021-10-10T13:23:47.539056-0400][CRITICAL][logger]][12638] Skipping torchvision.torchvision.transforms.functional.rgb_to_grayscale not supported in 0.8.0a0\n",
      "[2021-10-10T13:23:47.545396-0400][CRITICAL][logger]][12638] Skipping torchvision.torchvision.transforms.functional.solarize not supported in 0.8.0a0\n"
     ]
    },
    {
     "name": "stdout",
     "output_type": "stream",
     "text": [
      "♫♫♫ > \u001b[92mDONE!\u001b[0m\n"
     ]
    },
    {
     "name": "stderr",
     "output_type": "stream",
     "text": [
      "/Users/robertbrown/opt/anaconda3/envs/farm/lib/python3.9/site-packages/aiortc/rtcdtlstransport.py:211: CryptographyDeprecationWarning: This version of cryptography contains a temporary pyOpenSSL fallback path. Upgrade pyOpenSSL now.\n",
      "  _openssl_assert(lib.SSL_CTX_use_certificate(ctx, self._cert._x509) == 1)  # type: ignore\n",
      "/Users/robertbrown/opt/anaconda3/envs/farm/lib/python3.9/site-packages/aiortc/rtcdtlstransport.py:186: CryptographyDeprecationWarning: This version of cryptography contains a temporary pyOpenSSL fallback path. Upgrade pyOpenSSL now.\n",
      "  value=certificate_digest(self._cert._x509),  # type: ignore\n",
      "[2021-10-10T13:23:48.842341-0400][CRITICAL][logger]][12638] Skipping torchvision.torchvision.datasets.Omniglot not supported in 0.8.0a0\n",
      "[2021-10-10T13:23:48.843402-0400][CRITICAL][logger]][12638] Skipping torchvision.torchvision.datasets.Omniglot.__len__ not supported in 0.8.0a0\n",
      "[2021-10-10T13:23:48.844593-0400][CRITICAL][logger]][12638] Skipping torchvision.torchvision.datasets.Places365 not supported in 0.8.0a0\n",
      "[2021-10-10T13:23:48.847790-0400][CRITICAL][logger]][12638] Skipping torchvision.torchvision.datasets.Places365.__len__ not supported in 0.8.0a0\n",
      "[2021-10-10T13:23:48.852927-0400][CRITICAL][logger]][12638] Skipping torchvision.torchvision.transforms.GaussianBlur not supported in 0.8.0a0\n",
      "[2021-10-10T13:23:48.859897-0400][CRITICAL][logger]][12638] Skipping torchvision.torchvision.transforms.ConvertImageDtype not supported in 0.8.0a0\n",
      "[2021-10-10T13:23:48.868437-0400][CRITICAL][logger]][12638] Skipping torchvision.torchvision.transforms.functional.adjust_sharpness not supported in 0.8.0a0\n",
      "[2021-10-10T13:23:48.875749-0400][CRITICAL][logger]][12638] Skipping torchvision.torchvision.transforms.functional.autocontrast not supported in 0.8.0a0\n",
      "[2021-10-10T13:23:48.882374-0400][CRITICAL][logger]][12638] Skipping torchvision.torchvision.transforms.functional.equalize not supported in 0.8.0a0\n",
      "[2021-10-10T13:23:48.892869-0400][CRITICAL][logger]][12638] Skipping torchvision.torchvision.transforms.functional.gaussian_blur not supported in 0.8.0a0\n",
      "[2021-10-10T13:23:48.895793-0400][CRITICAL][logger]][12638] Skipping torchvision.torchvision.transforms.functional.invert not supported in 0.8.0a0\n",
      "[2021-10-10T13:23:48.900384-0400][CRITICAL][logger]][12638] Skipping torchvision.torchvision.transforms.functional.posterize not supported in 0.8.0a0\n",
      "[2021-10-10T13:23:48.905930-0400][CRITICAL][logger]][12638] Skipping torchvision.torchvision.transforms.functional.rgb_to_grayscale not supported in 0.8.0a0\n",
      "[2021-10-10T13:23:48.910293-0400][CRITICAL][logger]][12638] Skipping torchvision.torchvision.transforms.functional.solarize not supported in 0.8.0a0\n"
     ]
    },
    {
     "name": "stdout",
     "output_type": "stream",
     "text": [
      "\n",
      "♫♫♫ > \u001b[92mCONNECTED!\u001b[0m\n"
     ]
    }
   ],
   "source": [
    "import syft as sy\n",
    "duet = sy.join_duet(loopback=True)"
   ]
  },
  {
   "cell_type": "code",
   "execution_count": 4,
   "id": "8e55af19",
   "metadata": {},
   "outputs": [
    {
     "data": {
      "text/html": [
       "<div>\n",
       "<style scoped>\n",
       "    .dataframe tbody tr th:only-of-type {\n",
       "        vertical-align: middle;\n",
       "    }\n",
       "\n",
       "    .dataframe tbody tr th {\n",
       "        vertical-align: top;\n",
       "    }\n",
       "\n",
       "    .dataframe thead th {\n",
       "        text-align: right;\n",
       "    }\n",
       "</style>\n",
       "<table border=\"1\" class=\"dataframe\">\n",
       "  <thead>\n",
       "    <tr style=\"text-align: right;\">\n",
       "      <th></th>\n",
       "      <th>ID</th>\n",
       "      <th>Tags</th>\n",
       "      <th>Description</th>\n",
       "      <th>object_type</th>\n",
       "    </tr>\n",
       "  </thead>\n",
       "  <tbody>\n",
       "    <tr>\n",
       "      <th>0</th>\n",
       "      <td>&lt;UID: 47349c147483439c88dda2ab93473581&gt;</td>\n",
       "      <td>[Farm sensor data]</td>\n",
       "      <td>This is a dataset for wheat yield of 359,427 e...</td>\n",
       "      <td>&lt;class 'torch.Tensor'&gt;</td>\n",
       "    </tr>\n",
       "    <tr>\n",
       "      <th>1</th>\n",
       "      <td>&lt;UID: d97fa08cf8c64a1197ab93c3eab2c1c2&gt;</td>\n",
       "      <td>[Wheat yield labels]</td>\n",
       "      <td>Labels for wheat yield. 0 = low yield. 1 = hig...</td>\n",
       "      <td>&lt;class 'torch.Tensor'&gt;</td>\n",
       "    </tr>\n",
       "  </tbody>\n",
       "</table>\n",
       "</div>"
      ],
      "text/plain": [
       "                                        ID                  Tags  \\\n",
       "0  <UID: 47349c147483439c88dda2ab93473581>    [Farm sensor data]   \n",
       "1  <UID: d97fa08cf8c64a1197ab93c3eab2c1c2>  [Wheat yield labels]   \n",
       "\n",
       "                                         Description             object_type  \n",
       "0  This is a dataset for wheat yield of 359,427 e...  <class 'torch.Tensor'>  \n",
       "1  Labels for wheat yield. 0 = low yield. 1 = hig...  <class 'torch.Tensor'>  "
      ]
     },
     "execution_count": 4,
     "metadata": {},
     "output_type": "execute_result"
    }
   ],
   "source": [
    "#Check for sent data and review tag/description\n",
    "\n",
    "duet.store.pandas"
   ]
  },
  {
   "cell_type": "code",
   "execution_count": 5,
   "id": "1ebe12b7",
   "metadata": {},
   "outputs": [
    {
     "name": "stdout",
     "output_type": "stream",
     "text": [
      "This is a dataset for wheat yield of 359,427 examples using 10 features w/ IoT sensor data.\n",
      "\n",
      "Labels for wheat yield. 0 = low yield. 1 = high yield\n"
     ]
    }
   ],
   "source": [
    "#View descriptions of the data \n",
    "\n",
    "print(duet.store.pandas[\"Description\"][0])\n",
    "print()\n",
    "print(duet.store.pandas[\"Description\"][1])"
   ]
  },
  {
   "cell_type": "code",
   "execution_count": 6,
   "id": "1e3ed8a6",
   "metadata": {},
   "outputs": [],
   "source": [
    "# Assign variables to pointers of the sent data \n",
    "data_ptr = duet.store[0]\n",
    "target_ptr = duet.store[1]"
   ]
  },
  {
   "cell_type": "code",
   "execution_count": 7,
   "id": "c17f6ee5",
   "metadata": {},
   "outputs": [
    {
     "name": "stdout",
     "output_type": "stream",
     "text": [
      "<syft.proxy.torch.TensorPointer object at 0x7fcea82c6310>\n",
      "<syft.proxy.torch.TensorPointer object at 0x7fcea8959ca0>\n"
     ]
    }
   ],
   "source": [
    "#Show pointer objects \n",
    "\n",
    "print(data_ptr)\n",
    "print(target_ptr)"
   ]
  },
  {
   "cell_type": "code",
   "execution_count": 8,
   "id": "eaf64681",
   "metadata": {},
   "outputs": [],
   "source": [
    "import torch "
   ]
  },
  {
   "cell_type": "code",
   "execution_count": 9,
   "id": "995a8f0c",
   "metadata": {},
   "outputs": [],
   "source": [
    "#The data owner must provide this information to the data scientist \n",
    "\n",
    "in_dim = 10 # number of features\n",
    "out_dim = 2 # number of classes \n",
    "n_samples = 359427 # number of examples "
   ]
  },
  {
   "cell_type": "code",
   "execution_count": 10,
   "id": "2b5987e7",
   "metadata": {},
   "outputs": [],
   "source": [
    "# Create model \n",
    "\n",
    "class SyNet(sy.Module):\n",
    "    def __init__(self, torch_ref):\n",
    "        super(SyNet, self).__init__(torch_ref=torch_ref)\n",
    "        self.layer1 = self.torch_ref.nn.Linear(in_dim, 20)\n",
    "        self.layer2 = self.torch_ref.nn.Linear(20, 30)\n",
    "        self.out = self.torch_ref.nn.Linear(30, out_dim)\n",
    "\n",
    "    def forward(self, x):\n",
    "        x = self.torch_ref.nn.functional.relu(self.layer1(x))\n",
    "        x = self.torch_ref.nn.functional.relu(self.layer2(x))\n",
    "        output = self.torch_ref.nn.functional.log_softmax(self.out(x), dim=1)\n",
    "        return output"
   ]
  },
  {
   "cell_type": "code",
   "execution_count": 11,
   "id": "aa19c045",
   "metadata": {},
   "outputs": [],
   "source": [
    "#Create local model variable\n",
    "local_model = SyNet(torch)"
   ]
  },
  {
   "cell_type": "code",
   "execution_count": 12,
   "id": "548b47c5",
   "metadata": {},
   "outputs": [],
   "source": [
    "#Send local model to data owner\n",
    "remote_model = local_model.send(duet)"
   ]
  },
  {
   "cell_type": "code",
   "execution_count": 13,
   "id": "f030d92b",
   "metadata": {},
   "outputs": [],
   "source": [
    "# Alias for duet partners torch\n",
    "remote_torch = duet.torch"
   ]
  },
  {
   "cell_type": "code",
   "execution_count": 14,
   "id": "363a8f5a",
   "metadata": {},
   "outputs": [
    {
     "name": "stdout",
     "output_type": "stream",
     "text": [
      "params: <syft.proxy.syft.lib.python.ListPointer object at 0x7fcea15f53d0>\n",
      "optim: <syft.proxy.torch.optim.AdamPointer object at 0x7fcea891beb0>\n"
     ]
    }
   ],
   "source": [
    "params = remote_model.parameters()\n",
    "optim = remote_torch.optim.Adam(params=params, lr=0.01)\n",
    "print(\"params:\", params)\n",
    "print(\"optim:\", optim)"
   ]
  },
  {
   "cell_type": "code",
   "execution_count": 15,
   "id": "ff2a8a9a",
   "metadata": {},
   "outputs": [],
   "source": [
    "def train(iterations, model, torch_ref, optim, data_ptr, target_ptr):\n",
    "\n",
    "    losses = []\n",
    "\n",
    "    for i in range(iterations):\n",
    "\n",
    "        optim.zero_grad()\n",
    "\n",
    "        output = model(data_ptr)\n",
    "\n",
    "        loss = torch_ref.nn.functional.nll_loss(output, target_ptr.long())\n",
    "\n",
    "        loss_item = loss.item()\n",
    "\n",
    "        loss_value = loss_item.get(\n",
    "            reason=\"Need loss value for training model\", request_block=True, timeout_secs=5\n",
    "        )\n",
    "        if i % 10 == 0:\n",
    "            print(\"Epoch\", i, \"loss\", loss_value)\n",
    "\n",
    "        losses.append(loss_value)\n",
    "\n",
    "        loss.backward()\n",
    "\n",
    "        optim.step()\n",
    "\n",
    "    return losses"
   ]
  },
  {
   "cell_type": "code",
   "execution_count": 16,
   "id": "bc0a30b0",
   "metadata": {},
   "outputs": [
    {
     "name": "stdout",
     "output_type": "stream",
     "text": [
      "Epoch 0 loss 0.7080283761024475\n",
      "Epoch 10 loss 0.5898525714874268\n",
      "Epoch 20 loss 0.5566481351852417\n",
      "Epoch 30 loss 0.5449772477149963\n",
      "Epoch 40 loss 0.531931459903717\n",
      "Epoch 50 loss 0.5179024338722229\n",
      "Epoch 60 loss 0.5065684914588928\n",
      "Epoch 70 loss 0.49947911500930786\n",
      "Epoch 80 loss 0.4945535361766815\n",
      "Epoch 90 loss 0.49089372158050537\n"
     ]
    }
   ],
   "source": [
    "# Run the model \n",
    "iteration = 100\n",
    "losses = train(iteration, remote_model, remote_torch, optim, data_ptr, target_ptr)"
   ]
  },
  {
   "cell_type": "code",
   "execution_count": 17,
   "id": "8c0fb54f",
   "metadata": {},
   "outputs": [
    {
     "data": {
      "text/plain": [
       "Text(0.5, 0, 'iteration')"
      ]
     },
     "execution_count": 17,
     "metadata": {},
     "output_type": "execute_result"
    },
    {
     "data": {
      "image/png": "[encoded data removed]",
      "text/plain": [
       "<Figure size 432x288 with 1 Axes>"
      ]
     },
     "metadata": {
      "needs_background": "light"
     },
     "output_type": "display_data"
    }
   ],
   "source": [
    "#Create visualization of training loss over each iteration \n",
    "import matplotlib.pyplot as plt\n",
    "plt.plot(range(iteration), losses)\n",
    "plt.title(\"Training Loss\")\n",
    "plt.ylabel(\"Loss\")\n",
    "plt.xlabel(\"iteration\")"
   ]
  },
  {
   "cell_type": "code",
   "execution_count": 18,
   "id": "955a6539",
   "metadata": {},
   "outputs": [],
   "source": [
    "#After the model is trained, we ask the data owner for permission to get the local model\n",
    "\n",
    "def get_local_model(model):\n",
    "    if not model.is_local:\n",
    "        local_model = model.get(\n",
    "            request_block=True,\n",
    "            reason=\"To run test and inference locally\",\n",
    "            timeout_secs=5,\n",
    "        )\n",
    "    else:\n",
    "        local_model = model\n",
    "\n",
    "    return local_model\n",
    "\n",
    "\n",
    "local_model = get_local_model(remote_model)"
   ]
  },
  {
   "cell_type": "code",
   "execution_count": 19,
   "id": "06e1c0dc",
   "metadata": {},
   "outputs": [],
   "source": [
    "import torch\n",
    "import pandas as pd\n",
    "import numpy as np\n",
    "from sklearn.metrics import accuracy_score"
   ]
  },
  {
   "cell_type": "code",
   "execution_count": 20,
   "id": "bbd92976",
   "metadata": {},
   "outputs": [],
   "source": [
    "import os\n",
    "os.chdir('data')\n",
    "\n",
    "df = pd.read_csv(\"wheat-2014-supervised.csv\")"
   ]
  },
  {
   "cell_type": "code",
   "execution_count": 21,
   "id": "585967cb",
   "metadata": {},
   "outputs": [],
   "source": [
    "conditions = [\n",
    "    (df['Yield'] <= 31),\n",
    "    (df['Yield'] > 31)\n",
    "    ]\n",
    "\n",
    "# Classes \n",
    "values = [0,1]\n",
    "\n",
    "df['Yield_Cat'] = np.select(conditions, values)\n"
   ]
  },
  {
   "cell_type": "code",
   "execution_count": 22,
   "id": "c9908127",
   "metadata": {},
   "outputs": [],
   "source": [
    "df['EstDistEquator'] = df['Latitude'] * 69\n",
    "\n",
    "data_new = df[['EstDistEquator','precipTypeIsOther','temperatureMax','NDVI','visibility','dewPoint','pressure','humidity','cloudCover','windSpeed', 'Yield_Cat' ]]\n",
    "data_new = data_new.dropna(axis=0)\n",
    "\n",
    "y = data_new[['Yield_Cat']]\n",
    "x = data_new.drop(['Yield_Cat'],axis=1)"
   ]
  },
  {
   "cell_type": "code",
   "execution_count": 23,
   "id": "7c0319ea",
   "metadata": {},
   "outputs": [],
   "source": [
    "from sklearn.pipeline import Pipeline\n",
    "from sklearn.preprocessing import StandardScaler\n",
    "\n",
    "num_pipeline = Pipeline([\n",
    "    ('std_scaler', StandardScaler())   \n",
    "])\n",
    "\n",
    "x = num_pipeline.fit_transform(x)"
   ]
  },
  {
   "cell_type": "code",
   "execution_count": 24,
   "id": "29fe151f",
   "metadata": {},
   "outputs": [],
   "source": [
    "x_test = torch.FloatTensor(np.array(x))\n",
    "y = y.to_numpy()\n",
    "y_test = torch.FloatTensor(y).reshape(-1)\n"
   ]
  },
  {
   "cell_type": "code",
   "execution_count": 25,
   "id": "8b0a3d9e",
   "metadata": {},
   "outputs": [],
   "source": [
    "# Test Accuracy \n",
    "\n",
    "preds = []\n",
    "with torch.no_grad():\n",
    "    for i in range(len(x_test)):\n",
    "        sample = x_test[i]\n",
    "        y_hat = local_model(sample.unsqueeze(0))\n",
    "        pred = y_hat.argmax().item()\n",
    "        #print(f\"Prediction: {pred} Actual: {y_test[i]}\")\n",
    "        preds.append(pred)"
   ]
  },
  {
   "cell_type": "code",
   "execution_count": 26,
   "id": "7ff8c783",
   "metadata": {},
   "outputs": [
    {
     "name": "stdout",
     "output_type": "stream",
     "text": [
      "Overall accuracy 76.3614309707022\n"
     ]
    }
   ],
   "source": [
    "acc = accuracy_score(y_test, preds)\n",
    "print(\"Overall accuracy\", acc * 100)"
   ]
  },
  {
   "cell_type": "code",
   "execution_count": null,
   "id": "43909c5f",
   "metadata": {},
   "outputs": [],
   "source": []
  }
 ],
 "metadata": {
  "kernelspec": {
   "display_name": "Python 3 (ipykernel)",
   "language": "python",
   "name": "python3"
  },
  "language_info": {
   "codemirror_mode": {
    "name": "ipython",
    "version": 3
   },
   "file_extension": ".py",
   "mimetype": "text/x-python",
   "name": "python",
   "nbconvert_exporter": "python",
   "pygments_lexer": "ipython3",
   "version": "3.9.7"
  }
 },
 "nbformat": 4,
 "nbformat_minor": 5
}
